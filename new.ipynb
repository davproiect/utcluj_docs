{
 "cells": [
  {
   "cell_type": "code",
   "execution_count": 30,
   "metadata": {},
   "outputs": [],
   "source": [
    "import pandas as pd"
   ]
  },
  {
   "cell_type": "code",
   "execution_count": 33,
   "metadata": {},
   "outputs": [],
   "source": [
    "\n",
    "df = pd.read_csv('template_plan_invatamant.csv')\n",
    "\n"
   ]
  },
  {
   "cell_type": "code",
   "execution_count": 36,
   "metadata": {},
   "outputs": [],
   "source": [
    "context = {}\n",
    "for i in df:\n",
    "    context[i] = df[i]"
   ]
  },
  {
   "cell_type": "code",
   "execution_count": 41,
   "metadata": {},
   "outputs": [
    {
     "name": "stdout",
     "output_type": "stream",
     "text": [
      "p1_1\n",
      "p1_2\n",
      "p1_3\n",
      "p1_4\n",
      "p1_5\n",
      "p1_6\n",
      "p1_7\n",
      "p1_8\n",
      "p2_1\n",
      "p2_2\n",
      "p2_3\n",
      "p2_4\n",
      "p2_5\n",
      "p2_6\n",
      "p2_7_a\n",
      "p2_7_b\n",
      "p3_1\n",
      "p3_2\n",
      "p3_3_a\n",
      "p3_3_b\n",
      "p3_3_c\n",
      "p3_4\n",
      "p3_5\n",
      "p3_6_a\n",
      "p3_6_b\n",
      "p3_6_c\n",
      "p3_8\n",
      "p3_9\n",
      "p3_10\n"
     ]
    }
   ],
   "source": [
    "for i in context:\n",
    "    print(i)"
   ]
  },
  {
   "cell_type": "code",
   "execution_count": null,
   "metadata": {},
   "outputs": [],
   "source": []
  }
 ],
 "metadata": {
  "kernelspec": {
   "display_name": "Python 3.10.6 64-bit",
   "language": "python",
   "name": "python3"
  },
  "language_info": {
   "codemirror_mode": {
    "name": "ipython",
    "version": 3
   },
   "file_extension": ".py",
   "mimetype": "text/x-python",
   "name": "python",
   "nbconvert_exporter": "python",
   "pygments_lexer": "ipython3",
   "version": "3.10.6"
  },
  "orig_nbformat": 4,
  "vscode": {
   "interpreter": {
    "hash": "916dbcbb3f70747c44a77c7bcd40155683ae19c65e1c03b4aa3499c5328201f1"
   }
  }
 },
 "nbformat": 4,
 "nbformat_minor": 2
}
