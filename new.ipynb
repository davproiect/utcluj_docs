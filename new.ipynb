{
 "cells": [
  {
   "cell_type": "code",
   "execution_count": 24,
   "metadata": {},
   "outputs": [],
   "source": [
    "import pandas as pd"
   ]
  },
  {
   "cell_type": "code",
   "execution_count": 26,
   "metadata": {},
   "outputs": [],
   "source": []
  },
  {
   "cell_type": "code",
   "execution_count": 29,
   "metadata": {},
   "outputs": [
    {
     "name": "stdout",
     "output_type": "stream",
     "text": [
      "['1', '', '', '', '', '', '', '0', '', '', '', '', '', '', '0', '', '', '', '', '', '', '0', '']\n",
      "['0', '', '', '', '', '', '', '2', '', '', '', '', '', '', '0', '', '', '', '', '', '', '0', '']\n",
      "['0', '', '', '', '', '', '', '1', '', '', '', '', '', '', '0', '', '', '', '', '', '', '0', '']\n",
      "['1', '', '', '', '', '', '', '1', '', '', '', '', '', '', '0', '', '', '', '', '', '', '0', '']\n",
      "['0', '', '', '', '', '', '', '1', '', '', '', '', '', '', '0', '', '', '', '', '', '', '0', '']\n",
      "['1', '', '', '', '', '', '', '1', '', '', '', '', '', '', '0', '', '', '', '', '', '', '0', '']\n",
      "['1', '', '', '', '', '', '', '0', '', '', '', '', '', '', '0', '', '', '', '', '', '', '0', '']\n",
      "['1', '', '', '', '', '', '', '0', '', '', '', '', '', '', '0', '', '', '', '', '', '', '0', '']\n",
      "['2', '', '', '', '', '', '', '0', '', '', '', '', '', '', '0', '', '', '', '', '', '', '0', '']\n",
      "['2', '', '', '', '', '', '', '0', '', '', '', '', '', '', '0', '', '', '', '', '', '', '0', '']\n",
      "['0', '', '', '', '', '', '', '0', '', '', '', '', '', '', '0', '', '', '', '', '30', '']\n"
     ]
    }
   ],
   "source": [
    "\n",
    "lista = '''1       0       0       0\t\n",
    "0       2       0       0\t\n",
    "0       1       0       0\t\n",
    "1       1       0       0\t\n",
    "0       1       0       0\t\n",
    "1       1       0       0\t\n",
    "1       0       0       0\t\n",
    "1       0       0       0\t\n",
    "2       0       0       0\t\n",
    "2       0       0       0\t\n",
    "0       0       0     30\t'''\n",
    "lista = lista.replace('\\t', ' ').split('\\n')\n",
    "for i in range(len(lista)):\n",
    "    lista[i] = lista[i].split(' ')\n",
    "    \n",
    "    print(lista[i])"
   ]
  },
  {
   "cell_type": "code",
   "execution_count": 15,
   "metadata": {},
   "outputs": [
    {
     "name": "stdout",
     "output_type": "stream",
     "text": [
      "['1', '', '', '', '', '', '', '0', '', '', '', '', '', '', '0', '', '', '', '', '', '', '0', '']\n"
     ]
    }
   ],
   "source": [
    "print(lista[0].split(' '))"
   ]
  },
  {
   "cell_type": "code",
   "execution_count": null,
   "metadata": {},
   "outputs": [],
   "source": []
  }
 ],
 "metadata": {
  "kernelspec": {
   "display_name": "Python 3.10.6 64-bit",
   "language": "python",
   "name": "python3"
  },
  "language_info": {
   "codemirror_mode": {
    "name": "ipython",
    "version": 3
   },
   "file_extension": ".py",
   "mimetype": "text/x-python",
   "name": "python",
   "nbconvert_exporter": "python",
   "pygments_lexer": "ipython3",
   "version": "3.10.6"
  },
  "orig_nbformat": 4,
  "vscode": {
   "interpreter": {
    "hash": "916dbcbb3f70747c44a77c7bcd40155683ae19c65e1c03b4aa3499c5328201f1"
   }
  }
 },
 "nbformat": 4,
 "nbformat_minor": 2
}
